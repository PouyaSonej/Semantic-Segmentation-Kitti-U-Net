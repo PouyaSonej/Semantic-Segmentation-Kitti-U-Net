{
  "nbformat": 4,
  "nbformat_minor": 0,
  "metadata": {
    "accelerator": "GPU",
    "colab": {
      "provenance": [],
      "toc_visible": true,
      "machine_shape": "hm",
      "include_colab_link": true
    },
    "kernelspec": {
      "display_name": "Python 3",
      "language": "python",
      "name": "python3"
    },
    "language_info": {
      "codemirror_mode": {
        "name": "ipython",
        "version": 3
      },
      "file_extension": ".py",
      "mimetype": "text/x-python",
      "name": "python",
      "nbconvert_exporter": "python",
      "pygments_lexer": "ipython3",
      "version": "3.6.8"
    }
  },
  "cells": [
    {
      "cell_type": "markdown",
      "metadata": {
        "id": "view-in-github",
        "colab_type": "text"
      },
      "source": [
        "<a href=\"https://colab.research.google.com/github/PouyaSonej/Semantic-Segmentation-Kitti-U-Net/blob/main/UNet_KITTI.ipynb\" target=\"_parent\"><img src=\"https://colab.research.google.com/assets/colab-badge.svg\" alt=\"Open In Colab\"/></a>"
      ]
    },
    {
      "cell_type": "code",
      "metadata": {
        "id": "TO95UeR3Crfv"
      },
      "source": [
        "import numpy as np\n",
        "import scipy.io\n",
        "import cv2\n",
        "import pdb\n",
        "import os\n",
        "from matplotlib import pyplot as plt\n",
        "from tensorflow import keras\n",
        "from tensorflow.keras import layers\n",
        "from tensorflow.keras.utils import plot_model\n",
        "from tensorflow.keras.applications import VGG16\n",
        "from tensorflow.keras.applications.vgg16 import preprocess_input\n",
        "from tensorflow.keras.utils import plot_model"
      ],
      "execution_count": null,
      "outputs": []
    },
    {
      "cell_type": "markdown",
      "metadata": {
        "id": "Dn7uQZQaAb9j"
      },
      "source": [
        "# Prepare Dataset"
      ]
    },
    {
      "cell_type": "code",
      "metadata": {
        "id": "8idjNJCMAB0x",
        "colab": {
          "base_uri": "https://localhost:8080/"
        },
        "outputId": "59d15af6-d209-425e-b00f-6a89f90db08b"
      },
      "source": [
        "!wget http://adas.cvc.uab.es/s2uad/Download/KITTI_SEMANTIC.zip"
      ],
      "execution_count": null,
      "outputs": [
        {
          "output_type": "stream",
          "text": [
            "--2021-02-25 06:59:30--  http://adas.cvc.uab.es/s2uad/Download/KITTI_SEMANTIC.zip\n",
            "Resolving adas.cvc.uab.es (adas.cvc.uab.es)... 158.109.8.54\n",
            "Connecting to adas.cvc.uab.es (adas.cvc.uab.es)|158.109.8.54|:80... connected.\n",
            "HTTP request sent, awaiting response... 200 OK\n",
            "Length: 114312538 (109M) [application/zip]\n",
            "Saving to: ‘KITTI_SEMANTIC.zip’\n",
            "\n",
            "KITTI_SEMANTIC.zip  100%[===================>] 109.02M  6.83MB/s    in 18s     \n",
            "\n",
            "2021-02-25 06:59:49 (6.01 MB/s) - ‘KITTI_SEMANTIC.zip’ saved [114312538/114312538]\n",
            "\n"
          ],
          "name": "stdout"
        }
      ]
    },
    {
      "cell_type": "code",
      "metadata": {
        "id": "-6ITKMqwAjJz"
      },
      "source": [
        "!unzip -q \"/content/KITTI_SEMANTIC.zip\""
      ],
      "execution_count": null,
      "outputs": []
    },
    {
      "cell_type": "code",
      "metadata": {
        "id": "FkUVnOueBVkH"
      },
      "source": [
        "kitti_classes = {\n",
        "    'Building':   [128, 0,   0],\n",
        "    'Vegetation': [128, 128, 0],\n",
        "    'Sky':        [128, 128, 128],\n",
        "    'Car':        [64,  0,   128],\n",
        "    'Sign':       [192, 128, 128],\n",
        "    'Road':       [128, 64,  128],\n",
        "    'Pedestrian': [64,  64,  0],\n",
        "    'Fence':      [64,  64,  128],\n",
        "    'Pole':       [192, 192, 128],\n",
        "    'Sidewalk':   [0,   0,   192],\n",
        "    'Cyclist':    [0,   128, 192],\n",
        "}\n",
        "\n",
        "class DataGenerator(keras.utils.Sequence):\n",
        "    def __init__(self, path, batch_size=1, shuffle=True, subset='train'):\n",
        "        self.path = path\n",
        "        self.batch_size = batch_size\n",
        "        self.shuffle = shuffle\n",
        "        self.subset = subset\n",
        "\n",
        "        rgb_path = path + '/RGB/'\n",
        "        gt_path = path + '/GT/'\n",
        "\n",
        "        self.images = []\n",
        "        self.segments = []\n",
        "        for name in np.sort(os.listdir(rgb_path)):\n",
        "            rgb_name = rgb_path + name\n",
        "            gt_name = gt_path + name\n",
        "\n",
        "            rgb = cv2.imread(rgb_name)\n",
        "            gt = cv2.imread(gt_name)\n",
        "            gt = cv2.cvtColor(gt, cv2.COLOR_BGR2RGB)\n",
        "\n",
        "            # TODO: convert gt to categorical labels\n",
        "            labels = np.zeros(gt.shape[:2])\n",
        "            for i, (key, value) in enumerate(kitti_classes.items()):\n",
        "              labels[np.sum(gt == value, axis=2) == 3] = i+1\n",
        "\n",
        "            mask = labels == 0\n",
        "            labels = keras.utils.to_categorical(labels-1, num_classes=len(kitti_classes))\n",
        "            labels[mask==1, :] = 0\n",
        "\n",
        "            self.images.append(rgb)\n",
        "            self.segments.append(labels)\n",
        "\n",
        "        self.on_epoch_end()\n",
        "\n",
        "    # Denotes the number of batches per epoch\n",
        "    def __len__(self):\n",
        "        return int(np.ceil(len(self.images) / self.batch_size))\n",
        "\n",
        "    # Generate one batch of data\n",
        "    def __getitem__(self, index):\n",
        "        image = self.images[index]\n",
        "        segment = self.segments[index]\n",
        "\n",
        "        # TODO: Crop image to multiply of 16\n",
        "        d0 = np.mod(image.shape[0], 16)\n",
        "        d1 = np.mod(image.shape[1], 16)\n",
        "\n",
        "        image = image[d0:, d1:, :]\n",
        "        segment = segment[d0:, d1:, :]\n",
        "\n",
        "        image = preprocess_input(image)\n",
        "\n",
        "        if self.subset == 'train':\n",
        "            # TODO: Apply random transforms\n",
        "            if np.random.uniform() > 0.5:\n",
        "                image = cv2.flip(image, 1)\n",
        "                segment = cv2.flip(segment, 1)\n",
        "\n",
        "        return np.expand_dims(image, axis=0), np.expand_dims(segment, axis=0)\n",
        "\n",
        "    # Updates indices after each epoch\n",
        "    def on_epoch_end(self):\n",
        "        self.indices = np.arange(len(self.images))\n",
        "        if self.shuffle == True:\n",
        "            np.random.shuffle(self.indices)\n",
        "\n",
        "train_generator = DataGenerator('/content/KITTI_SEMANTIC/Training_00')\n",
        "valid_generator = DataGenerator('/content/KITTI_SEMANTIC/Validation_07', shuffle=False, subset='valid')"
      ],
      "execution_count": null,
      "outputs": []
    },
    {
      "cell_type": "code",
      "metadata": {
        "id": "3ovP2zlFhXn_",
        "colab": {
          "base_uri": "https://localhost:8080/",
          "height": 170
        },
        "outputId": "aca8345c-1abf-41d7-cff2-bf2886941e55"
      },
      "source": [
        "gt = cv2.imread('/content/KITTI_SEMANTIC/Training_00/GT/000000.png')\n",
        "gt = cv2.cvtColor(gt, cv2.COLOR_BGR2RGB)\n",
        "plt.imshow(gt)"
      ],
      "execution_count": null,
      "outputs": [
        {
          "output_type": "execute_result",
          "data": {
            "text/plain": [
              "<matplotlib.image.AxesImage at 0x7f1a9021f390>"
            ]
          },
          "metadata": {
            "tags": []
          },
          "execution_count": 7
        },
        {
          "output_type": "display_data",
          "data": {
            "image/png": "[encoded data removed]",
            "text/plain": [
              "<Figure size 432x288 with 1 Axes>"
            ]
          },
          "metadata": {
            "tags": [],
            "needs_background": "light"
          }
        }
      ]
    },
    {
      "cell_type": "code",
      "metadata": {
        "id": "CtHUPnsahtR7"
      },
      "source": [
        "labels = np.zeros(gt.shape[:2])\n",
        "for i, (key, value) in enumerate(kitti_classes.items()):\n",
        "  labels[np.sum(gt == value, axis=2) == 3] = i+1\n",
        "\n",
        "mask = labels == 0\n",
        "labels = keras.utils.to_categorical(labels-1, num_classes=len(kitti_classes))\n",
        "labels[mask==1, :] = 0"
      ],
      "execution_count": null,
      "outputs": []
    },
    {
      "cell_type": "markdown",
      "metadata": {
        "id": "wTfDYKOEPiJX"
      },
      "source": [
        "# Train Model"
      ]
    },
    {
      "cell_type": "markdown",
      "source": [
        "![ipr212419-fig-0003-m.webp](data:image/webp;base64,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)"
      ],
      "metadata": {
        "id": "uwEp-peQBqFs"
      }
    },
    {
      "cell_type": "code",
      "metadata": {
        "id": "SXG6IuLSeQpc",
        "cellView": "code"
      },
      "source": [
        "# Define the U-Net architecture\n",
        "def unet(input_shape=(256, 256, 3), num_classes=1):\n",
        "    # Input layer\n",
        "    inputs = Input(input_shape)\n",
        "\n",
        "    # Encoder (contracting path)\n",
        "    conv1 = Conv2D(64, 3, activation='relu', padding='same')(inputs)\n",
        "    conv1 = Conv2D(64, 3, activation='relu', padding='same')(conv1)\n",
        "    pool1 = MaxPooling2D(pool_size=(2, 2))(conv1)\n",
        "\n",
        "    conv2 = Conv2D(128, 3, activation='relu', padding='same')(pool1)\n",
        "    conv2 = Conv2D(128, 3, activation='relu', padding='same')(conv2)\n",
        "    pool2 = MaxPooling2D(pool_size=(2, 2))(conv2)\n",
        "\n",
        "    conv3 = Conv2D(256, 3, activation='relu', padding='same')(pool2)\n",
        "    conv3 = Conv2D(256, 3, activation='relu', padding='same')(conv3)\n",
        "    pool3 = MaxPooling2D(pool_size=(2, 2))(conv3)\n",
        "\n",
        "    conv4 = Conv2D(512, 3, activation='relu', padding='same')(pool3)\n",
        "    conv4 = Conv2D(512, 3, activation='relu', padding='same')(conv4)\n",
        "    drop4 = Dropout(0.5)(conv4)\n",
        "    pool4 = MaxPooling2D(pool_size=(2, 2))(drop4)\n",
        "\n",
        "    # Bottom of the U-Net\n",
        "    conv5 = Conv2D(1024, 3, activation='relu', padding='same')(pool4)\n",
        "    conv5 = Conv2D(1024, 3, activation='relu', padding='same')(conv5)\n",
        "    drop5 = Dropout(0.5)(conv5)\n",
        "\n",
        "    # Decoder (expansive path)\n",
        "    up6 = Conv2DTranspose(512, (2, 2), strides=(2, 2), padding='same')(drop5)\n",
        "    merge6 = concatenate([drop4, up6], axis=3)\n",
        "    conv6 = Conv2D(512, 3, activation='relu', padding='same')(merge6)\n",
        "    conv6 = Conv2D(512, 3, activation='relu', padding='same')(conv6)\n",
        "\n",
        "    up7 = Conv2DTranspose(256, (2, 2), strides=(2, 2), padding='same')(conv6)\n",
        "    merge7 = concatenate([conv3, up7], axis=3)\n",
        "    conv7 = Conv2D(256, 3, activation='relu', padding='same')(merge7)\n",
        "    conv7 = Conv2D(256, 3, activation='relu', padding='same')(conv7)\n",
        "\n",
        "    up8 = Conv2DTranspose(128, (2, 2), strides=(2, 2), padding='same')(conv7)\n",
        "    merge8 = concatenate([conv2, up8], axis=3)\n",
        "    conv8 = Conv2D(128, 3, activation='relu', padding='same')(merge8)\n",
        "    conv8 = Conv2D(128, 3, activation='relu', padding='same')(conv8)\n",
        "\n",
        "    up9 = Conv2DTranspose(64, (2, 2), strides=(2, 2), padding='same')(conv8)\n",
        "    merge9 = concatenate([conv1, up9], axis=3)\n",
        "    conv9 = Conv2D(64, 3, activation='relu', padding='same')(merge9)\n",
        "    conv9 = Conv2D(64, 3, activation='relu', padding='same')(conv9)\n",
        "\n",
        "    # Output layer\n",
        "    outputs = Conv2D(num_classes, 1, activation='sigmoid')(conv9)\n",
        "\n",
        "    # Create the U-Net model\n",
        "    model = Model(inputs=inputs, outputs=outputs)\n",
        "\n",
        "    return model\n",
        "\n",
        "# Instantiate the U-Net model\n",
        "model = unet()\n",
        "model.summary()\n",
        "plot_model(model, show_shapes=True)"
      ],
      "execution_count": null,
      "outputs": []
    },
    {
      "cell_type": "code",
      "metadata": {
        "id": "ZkPiqMe-lad8"
      },
      "source": [
        "# compile model\n",
        "model.compile(optimizer=keras.optimizers.Adam(lr=1e-5),\n",
        "              loss='categorical_crossentropy',\n",
        "              metrics=['accuracy'])\n",
        "\n",
        "early_stopping = keras.callbacks.EarlyStopping(monitor='val_loss',\n",
        "                                               min_delta=0,\n",
        "                                               patience=5,\n",
        "                                               restore_best_weights=True)\n",
        "\n",
        "# Train model on dataset\n",
        "history = model.fit(train_generator,\n",
        "                    validation_data=valid_generator,\n",
        "                    epochs=100,\n",
        "                    callbacks=[early_stopping])"
      ],
      "execution_count": null,
      "outputs": []
    },
    {
      "cell_type": "code",
      "metadata": {
        "id": "nT6Xu7m9inho"
      },
      "source": [
        "%matplotlib inline\n",
        "%config InlineBackend.figure_format = 'svg'\n",
        "def plot_metric(history, metric):\n",
        "    train_metrics = history.history[metric]\n",
        "    val_metrics = history.history['val_'+metric]\n",
        "    epochs = range(1, len(train_metrics) + 1)\n",
        "    plt.plot(epochs, train_metrics)\n",
        "    plt.plot(epochs, val_metrics)\n",
        "    plt.title('Training and validation '+ metric)\n",
        "    plt.xlabel(\"Epochs\")\n",
        "    plt.ylabel(metric)\n",
        "    plt.legend([\"train_\"+metric, 'val_'+metric])\n",
        "    plt.show()"
      ],
      "execution_count": null,
      "outputs": []
    },
    {
      "cell_type": "code",
      "metadata": {
        "id": "KDJ18HxBinfo"
      },
      "source": [
        "plot_metric(history, 'loss')\n",
        "plot_metric(history, 'accuracy')"
      ],
      "execution_count": null,
      "outputs": []
    },
    {
      "cell_type": "code",
      "metadata": {
        "id": "13szJdtnzCva"
      },
      "source": [
        "X, Y_true = valid_generator.__getitem__(0)\n",
        "Y_pred = model.predict(X)\n",
        "print(Y_pred[0,0,0,:])"
      ],
      "execution_count": null,
      "outputs": []
    },
    {
      "cell_type": "code",
      "metadata": {
        "id": "iXO02uL7wQvY"
      },
      "source": [
        "np.sum(np.sum(Y_pred[0], axis=0), axis=0) / Y_pred.shape[2] / Y_pred.shape[1]"
      ],
      "execution_count": null,
      "outputs": []
    },
    {
      "cell_type": "code",
      "metadata": {
        "id": "8IrU2cVCxBif"
      },
      "source": [
        "plt.imshow(X[0])"
      ],
      "execution_count": null,
      "outputs": []
    },
    {
      "cell_type": "markdown",
      "metadata": {
        "id": "70Pena_csdaU"
      },
      "source": [
        "# Batch-Normalization"
      ]
    },
    {
      "cell_type": "code",
      "metadata": {
        "id": "gp0_1flfscnj"
      },
      "source": [
        "# load base model (encoder)\n",
        "base_model = VGG16(include_top=False, weights='imagenet')\n",
        "\n",
        "# select layers and freeze them\n",
        "levels = []\n",
        "for layer in base_model.layers:\n",
        "    layer.trainable = False\n",
        "    if layer.name.count('pool') > 0:\n",
        "        levels.append(layer.input)\n",
        "\n",
        "[f1, f2, f3, f4, f5] = levels\n",
        "\n",
        "# activation = 'relu'\n",
        "activation = keras.layers.LeakyReLU(alpha=0.2)\n",
        "\n",
        "def conv_bn(x, filters):\n",
        "  x = keras.layers.Conv2D(filters, 3, padding='same')(x)\n",
        "  x = keras.layers.BatchNormalization()(x)\n",
        "  x = keras.layers.Activation(activation)(x)\n",
        "  return x\n",
        "\n",
        "# TODO: write decoder using UpSampling2D, Conv2D, and Concatenate layers\n",
        "\n",
        "\n",
        "model = keras.models.Model(base_model.inputs, output)\n",
        "\n",
        "plot_model(model, show_shapes=True)"
      ],
      "execution_count": null,
      "outputs": []
    },
    {
      "cell_type": "code",
      "metadata": {
        "id": "Wb8pIm4tLCRv"
      },
      "source": [
        "# compile model\n",
        "model.compile(optimizer=keras.optimizers.Adam(lr=1e-4),\n",
        "              loss='categorical_crossentropy',\n",
        "              metrics=['accuracy'])\n",
        "\n",
        "early_stopping = keras.callbacks.EarlyStopping(monitor='val_loss',\n",
        "                                               min_delta=0,\n",
        "                                               patience=5,\n",
        "                                               restore_best_weights=True)\n",
        "\n",
        "# Train model on dataset\n",
        "history = model.fit_generator(generator=train_generator,\n",
        "                              validation_data=valid_generator,\n",
        "                              epochs=100,\n",
        "                              shuffle=False,\n",
        "                              callbacks=[early_stopping])"
      ],
      "execution_count": null,
      "outputs": []
    },
    {
      "cell_type": "code",
      "metadata": {
        "id": "R_O0aLCMrIkN"
      },
      "source": [
        "!mkdir -p \"/content/drive/My Drive/Datasets/Kitti\""
      ],
      "execution_count": null,
      "outputs": []
    },
    {
      "cell_type": "code",
      "metadata": {
        "id": "xZCWkJNxrCWT"
      },
      "source": [
        "# serialize model to JSON\n",
        "model_json = model.to_json()\n",
        "with open(\"/content/drive/My Drive/Datasets/Kitti/model.json\", \"w\") as json_file:\n",
        "    json_file.write(model_json)\n",
        "\n",
        "# serialize weights to HDF5\n",
        "model.save_weights(\"/content/drive/My Drive/Datasets/Kitti/model.h5\")"
      ],
      "execution_count": null,
      "outputs": []
    },
    {
      "cell_type": "markdown",
      "metadata": {
        "id": "0Vb8laGQFlj6"
      },
      "source": [
        "# Inference"
      ]
    },
    {
      "cell_type": "code",
      "metadata": {
        "id": "dJ-avCsQFoTj"
      },
      "source": [
        "# load json and create model\n",
        "json_file = open('/content/drive/My Drive/Datasets/Kitti/model.json', 'r')\n",
        "loaded_model_json = json_file.read()\n",
        "json_file.close()\n",
        "loaded_model = keras.models.model_from_json(loaded_model_json)\n",
        "\n",
        "# load weights into new model\n",
        "loaded_model.load_weights(\"/content/drive/My Drive/Datasets/Kitti/model.h5\")\n",
        "print(\"Loaded model from disk\")"
      ],
      "execution_count": null,
      "outputs": []
    },
    {
      "cell_type": "code",
      "metadata": {
        "id": "51Gwrh6GG961"
      },
      "source": [
        "X, Y_true = valid_generator.__getitem__(0)\n",
        "Y_pred = model.predict(X)\n",
        "print(Y_pred[0,0,0,:])"
      ],
      "execution_count": null,
      "outputs": []
    }
  ]
}